{
 "cells": [
  {
   "cell_type": "markdown",
   "id": "86cf50c0",
   "metadata": {},
   "source": [
    "# Importing Dependencies"
   ]
  },
  {
   "cell_type": "code",
   "execution_count": 2,
   "id": "8bbb0dd1",
   "metadata": {},
   "outputs": [],
   "source": [
    "import pandas as pd\n",
    "import numpy as np\n",
    "import matplotlib.pyplot as plt"
   ]
  },
  {
   "cell_type": "markdown",
   "id": "44ac0d61",
   "metadata": {},
   "source": [
    "# Reading the Dataset"
   ]
  },
  {
   "cell_type": "code",
   "execution_count": 3,
   "id": "34e2383a",
   "metadata": {},
   "outputs": [],
   "source": [
    "salaries = pd.read_csv(\"higher_ed_employee_salaries.csv\")"
   ]
  },
  {
   "cell_type": "code",
   "execution_count": 4,
   "id": "40dca657",
   "metadata": {
    "scrolled": false
   },
   "outputs": [
    {
     "data": {
      "text/html": [
       "<div>\n",
       "<style scoped>\n",
       "    .dataframe tbody tr th:only-of-type {\n",
       "        vertical-align: middle;\n",
       "    }\n",
       "\n",
       "    .dataframe tbody tr th {\n",
       "        vertical-align: top;\n",
       "    }\n",
       "\n",
       "    .dataframe thead th {\n",
       "        text-align: right;\n",
       "    }\n",
       "</style>\n",
       "<table border=\"1\" class=\"dataframe\">\n",
       "  <thead>\n",
       "    <tr style=\"text-align: right;\">\n",
       "      <th></th>\n",
       "      <th>Name</th>\n",
       "      <th>School</th>\n",
       "      <th>Job Description</th>\n",
       "      <th>Department</th>\n",
       "      <th>Earnings</th>\n",
       "      <th>Year</th>\n",
       "    </tr>\n",
       "  </thead>\n",
       "  <tbody>\n",
       "    <tr>\n",
       "      <th>0</th>\n",
       "      <td>Don Potter</td>\n",
       "      <td>University of Akron</td>\n",
       "      <td>Assistant Lecturer</td>\n",
       "      <td>Social Work</td>\n",
       "      <td>2472.00</td>\n",
       "      <td>2019</td>\n",
       "    </tr>\n",
       "    <tr>\n",
       "      <th>1</th>\n",
       "      <td>Emily Potter</td>\n",
       "      <td>The Ohio State University</td>\n",
       "      <td>Administrative Assistant 3</td>\n",
       "      <td>Arts and Sciences | Chemistry and Biochemistry...</td>\n",
       "      <td>48538.02</td>\n",
       "      <td>2022</td>\n",
       "    </tr>\n",
       "    <tr>\n",
       "      <th>2</th>\n",
       "      <td>Carol Jean Potter</td>\n",
       "      <td>The Ohio State University</td>\n",
       "      <td>Associate Professor-Clinical</td>\n",
       "      <td>Pediatrics</td>\n",
       "      <td>22722.80</td>\n",
       "      <td>2013</td>\n",
       "    </tr>\n",
       "    <tr>\n",
       "      <th>3</th>\n",
       "      <td>Kim Potter</td>\n",
       "      <td>The Ohio State University</td>\n",
       "      <td>Manager 4, Compliance</td>\n",
       "      <td>Legal Affairs | Compliance</td>\n",
       "      <td>170143.44</td>\n",
       "      <td>2022</td>\n",
       "    </tr>\n",
       "    <tr>\n",
       "      <th>4</th>\n",
       "      <td>Graham Potter</td>\n",
       "      <td>Miami University</td>\n",
       "      <td>Building and Grounds Assistant</td>\n",
       "      <td>Assoc VP Housing,Dining,Rec,Bus Svc</td>\n",
       "      <td>3075.20</td>\n",
       "      <td>2012</td>\n",
       "    </tr>\n",
       "  </tbody>\n",
       "</table>\n",
       "</div>"
      ],
      "text/plain": [
       "                Name                     School  \\\n",
       "0         Don Potter        University of Akron   \n",
       "1       Emily Potter  The Ohio State University   \n",
       "2  Carol Jean Potter  The Ohio State University   \n",
       "3         Kim Potter  The Ohio State University   \n",
       "4      Graham Potter           Miami University   \n",
       "\n",
       "                  Job Description  \\\n",
       "0              Assistant Lecturer   \n",
       "1      Administrative Assistant 3   \n",
       "2    Associate Professor-Clinical   \n",
       "3           Manager 4, Compliance   \n",
       "4  Building and Grounds Assistant   \n",
       "\n",
       "                                          Department   Earnings  Year  \n",
       "0                                        Social Work    2472.00  2019  \n",
       "1  Arts and Sciences | Chemistry and Biochemistry...   48538.02  2022  \n",
       "2                                         Pediatrics   22722.80  2013  \n",
       "3                         Legal Affairs | Compliance  170143.44  2022  \n",
       "4                Assoc VP Housing,Dining,Rec,Bus Svc    3075.20  2012  "
      ]
     },
     "execution_count": 4,
     "metadata": {},
     "output_type": "execute_result"
    }
   ],
   "source": [
    "salaries.head()"
   ]
  },
  {
   "cell_type": "markdown",
   "id": "14243b89",
   "metadata": {},
   "source": [
    "# Checking for unique values (by column)"
   ]
  },
  {
   "cell_type": "code",
   "execution_count": 36,
   "id": "18a1a52b",
   "metadata": {},
   "outputs": [
    {
     "name": "stdout",
     "output_type": "stream",
     "text": [
      "['University of Akron' 'The Ohio State University' 'Miami University'\n",
      " 'Bowling Green State University' 'Central State University'\n",
      " 'Ohio University' 'Youngstown State University' 'Kent State University'\n",
      " 'University Of Cincinnati' 'Wright State University'\n",
      " 'University of Toledo' 'Shawnee State University'\n",
      " 'Cleveland State University']\n",
      "Number of values: 13\n"
     ]
    }
   ],
   "source": [
    "unique_schools = salaries['School'].unique()\n",
    "unique_schools_count = salaries['School'].nunique()\n",
    "print(unique_schools)\n",
    "print(f\"Number of values:\", unique_schools_count)"
   ]
  },
  {
   "cell_type": "code",
   "execution_count": 37,
   "id": "6edb1f62",
   "metadata": {},
   "outputs": [
    {
     "name": "stdout",
     "output_type": "stream",
     "text": [
      "['Assistant Lecturer' 'Administrative Assistant 3'\n",
      " 'Associate Professor-Clinical' ... 'Adjunct Professor Session I'\n",
      " \"Asst Men's Basketbal Coach\" 'Assoc Head Mens BB Coach']\n",
      "Number of values: 38679\n"
     ]
    }
   ],
   "source": [
    "unique_jobs = salaries['Job Description'].unique()\n",
    "unique_jobs_count = salaries['Job Description'].nunique()\n",
    "print(unique_jobs)\n",
    "print(f\"Number of values:\", unique_jobs_count)"
   ]
  },
  {
   "cell_type": "code",
   "execution_count": 35,
   "id": "79e870b8",
   "metadata": {},
   "outputs": [
    {
     "name": "stdout",
     "output_type": "stream",
     "text": [
      "['Social Work'\n",
      " 'Arts and Sciences | Chemistry and Biochemistry Administration'\n",
      " 'Pediatrics' ... 'CH BSAM BACH APPL MGT' 'Ch Applied Management'\n",
      " 'Ch Bsam Bach Appl Mgt']\n",
      "Number of values: 9352\n"
     ]
    }
   ],
   "source": [
    "unique_departments= salaries['Department'].unique()\n",
    "unique_departments_count= salaries['Department'].nunique()\n",
    "print(unique_departments)\n",
    "print(f\"Number of values:\",unique_departments_count)"
   ]
  },
  {
   "cell_type": "code",
   "execution_count": 23,
   "id": "3b6b80b1",
   "metadata": {},
   "outputs": [
    {
     "name": "stdout",
     "output_type": "stream",
     "text": [
      "[2019 2022 2013 2012 2015 2018 2021 2014 2020 2016 2017 2011]\n"
     ]
    }
   ],
   "source": [
    "unique_years = salaries['Year'].unique()\n",
    "print(unique_years)"
   ]
  },
  {
   "cell_type": "markdown",
   "id": "b4d39348",
   "metadata": {},
   "source": [
    "# Checking for missing values"
   ]
  },
  {
   "cell_type": "code",
   "execution_count": 38,
   "id": "b353c716",
   "metadata": {},
   "outputs": [
    {
     "name": "stdout",
     "output_type": "stream",
     "text": [
      "------MISSING------\n",
      "Name                   0\n",
      "School                 0\n",
      "Job Description    26668\n",
      "Department         60452\n",
      "Earnings            9675\n",
      "Year                   0\n",
      "dtype: int64\n",
      "\n",
      "------PERCENTAGE------\n",
      "Name               0.000000\n",
      "School             0.000000\n",
      "Job Description    2.854183\n",
      "Department         6.469966\n",
      "Earnings           1.035481\n",
      "Year               0.000000\n",
      "dtype: float64\n"
     ]
    }
   ],
   "source": [
    "total_rows = salaries.shape[0]\n",
    "missing_per_column = salaries.isnull().sum()\n",
    "percentage_missing = (missing_per_column / total_rows) * 100\n",
    "\n",
    "print(\"------MISSING------\")\n",
    "print(missing_per_column)\n",
    "print(\"\\n------PERCENTAGE------\")\n",
    "print(percentage_missing)\n"
   ]
  },
  {
   "cell_type": "code",
   "execution_count": 22,
   "id": "82266ff5",
   "metadata": {},
   "outputs": [
    {
     "name": "stdout",
     "output_type": "stream",
     "text": [
      "38679\n"
     ]
    }
   ],
   "source": [
    "unique_schools = salaries['Job Description'].nunique()\n",
    "print(unique_schools)"
   ]
  },
  {
   "cell_type": "code",
   "execution_count": 18,
   "id": "5a2004bd",
   "metadata": {},
   "outputs": [
    {
     "name": "stdout",
     "output_type": "stream",
     "text": [
      "['Social Work'\n",
      " 'Arts and Sciences | Chemistry and Biochemistry Administration'\n",
      " 'Pediatrics' ... 'CH BSAM BACH APPL MGT' 'Ch Applied Management'\n",
      " 'Ch Bsam Bach Appl Mgt']\n"
     ]
    }
   ],
   "source": [
    "unique_schools = salaries['Department'].unique()\n",
    "print(unique_schools)"
   ]
  },
  {
   "cell_type": "code",
   "execution_count": null,
   "id": "6d911405",
   "metadata": {},
   "outputs": [],
   "source": []
  }
 ],
 "metadata": {
  "kernelspec": {
   "display_name": "Python 3 (ipykernel)",
   "language": "python",
   "name": "python3"
  },
  "language_info": {
   "codemirror_mode": {
    "name": "ipython",
    "version": 3
   },
   "file_extension": ".py",
   "mimetype": "text/x-python",
   "name": "python",
   "nbconvert_exporter": "python",
   "pygments_lexer": "ipython3",
   "version": "3.11.4"
  }
 },
 "nbformat": 4,
 "nbformat_minor": 5
}
